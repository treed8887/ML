{
 "cells": [
  {
   "cell_type": "markdown",
   "id": "5f3fb0c8",
   "metadata": {},
   "source": [
    "# CIS 678 Machine Learning Project 4(a) - ANN\n",
    "Tyler Reed"
   ]
  },
  {
   "cell_type": "markdown",
   "id": "8e073772",
   "metadata": {},
   "source": [
    "### Overview\n",
    "--------------\n",
    "Four linearly-separable, two-input Boolean functions, (AND, OR, NAND, NOR), will be modeled by a perceptron that will learn the weights of each function for classification."
   ]
  },
  {
   "cell_type": "markdown",
   "id": "d110adaa",
   "metadata": {},
   "source": []
  },
  {
   "cell_type": "markdown",
   "id": "456ef49a",
   "metadata": {},
   "source": [
    "### Data\n",
    "---------\n",
    "The data of each boolean function is within a csv file as shown below as a pandas dataframe."
   ]
  },
  {
   "cell_type": "code",
   "execution_count": 209,
   "id": "75b46b89",
   "metadata": {},
   "outputs": [
    {
     "name": "stdout",
     "output_type": "stream",
     "text": [
      "   x1  x2  AND  OR  NAND  NOR\n",
      "0   0   0    0   0     1    1\n",
      "1   0   1    0   1     1    0\n",
      "2   1   0    0   1     1    0\n",
      "3   1   1    1   1     0    0\n"
     ]
    }
   ],
   "source": [
    "import numpy as np\n",
    "import pandas as pd\n",
    "bool_df = pd.read_csv('/Users/Study/Downloads/CIS678/ML/Booleans.csv', \n",
    "                 sep=\",\", header=0)\n",
    "print(bool_df)"
   ]
  },
  {
   "cell_type": "markdown",
   "id": "dc59b120",
   "metadata": {},
   "source": [
    "### Methodology"
   ]
  },
  {
   "cell_type": "code",
   "execution_count": 216,
   "id": "4215792a",
   "metadata": {},
   "outputs": [],
   "source": [
    "def learn_bool(x1,x2,bln):\n",
    "    # accept only 1 & 0 as inputs\n",
    "    if x1 !=0 and x1 !=1 :\n",
    "        return print(\"Invalid input value. Must be 1 or 0.\")\n",
    "    elif x2 !=0 and x2 !=1 :\n",
    "        return print(\"Invalid input value. Must be 1 or 0.\")\n",
    "    elif bln not in [\"AND\", \"OR\", \"NAND\", \"NOR\"]:\n",
    "        return print(\"ERROR: Invalid boolean function type. Must be linearly-separable, two-input boolean function: AND, OR, NAND, NOR\")\n",
    "    # retrieve target\n",
    "    t_df = bool_df.filter(items=[\"x1\", \"x2\", bln]) \n",
    "    t = t_df.loc[(t_df['x1'] == x1) & (t_df['x2'] == x2)].to_numpy()[0, [-1]][0]\n",
    "    # initialize weights, bias, bln types, learning rate\n",
    "    wt_x1 = 0.1\n",
    "    wt_x2 = -0.1\n",
    "    b = 1\n",
    "    wt_b = {'AND':-1.5, 'NAND':-1.5, 'OR':-0.5, 'NOR':-0.5}\n",
    "    eta = 0.25\n",
    "    # calculate SOP\n",
    "    s = (wt_x1*x1 + wt_x2*x2 + wt_b[bln]*b)\n",
    "    # determine y\n",
    "    if s > 0:\n",
    "        y = 1\n",
    "    else:\n",
    "        y = 0\n",
    "    # if y is not equal to target, update weights until true\n",
    "    while y != t:\n",
    "        delta_x1 = eta*(t-y)*x1\n",
    "        delta_x2 = eta*(t-y)*x2\n",
    "        wt_x1 += delta_x1  \n",
    "        wt_x2 += delta_x2\n",
    "        s_temp = (wt_x1*x1 + wt_x2*x2 + wt_b[bln]*b)\n",
    "        # determine y\n",
    "        if s_temp > 0:\n",
    "            y = 1\n",
    "        else:\n",
    "            y = 0\n",
    "        print(\"Boolean Function: \" + str(bln) + \"\\n\" + \"X1 wt: \" + str(wt_x1) + \"\\n\" + \"X2 wt: \" + str(wt_x2) + \"\\n\" + \n",
    "             \"S: \" + str(s_temp))\n",
    "    \n",
    "    \n",
    "    return print(\"Convergence Reached\" + \"\\n\" + \"Boolean Function: \" + str(bln) + \"\\n\" + \"Final X1 wt: \" + str(wt_x1) + \"\\n\" + \"Final X2 wt: \" + str(wt_x2) + \"\\n\" + \n",
    "             \"S: \" + str(s_temp))\n",
    "\n",
    "    \n",
    "    \n",
    "    \n",
    "    \n",
    "    \n",
    "    \n",
    "    \n",
    "    \n",
    "    \n",
    "    \n",
    "    \n",
    "    \n",
    "    \n",
    "    "
   ]
  },
  {
   "cell_type": "code",
   "execution_count": 217,
   "id": "b4c131bc",
   "metadata": {},
   "outputs": [
    {
     "name": "stdout",
     "output_type": "stream",
     "text": [
      "Boolean Function: AND\n",
      "X1 wt: 0.35\n",
      "X2 wt: 0.15\n",
      "S: -1.0\n",
      "Boolean Function: AND\n",
      "X1 wt: 0.6\n",
      "X2 wt: 0.4\n",
      "S: -0.5\n",
      "Boolean Function: AND\n",
      "X1 wt: 0.85\n",
      "X2 wt: 0.65\n",
      "S: 0.0\n",
      "Boolean Function: AND\n",
      "X1 wt: 1.1\n",
      "X2 wt: 0.9\n",
      "S: 0.5\n",
      "good\n"
     ]
    }
   ],
   "source": [
    "learn_bool(1,1,\"AND\")"
   ]
  },
  {
   "cell_type": "code",
   "execution_count": 197,
   "id": "c375a12d",
   "metadata": {},
   "outputs": [],
   "source": [
    "wt_x1 = 1\n",
    "wt_x2 = 2\n",
    "delta_x1 = .5*(2-5)*3\n",
    "delta_x2 = .5*(4-5)*3\n",
    "wt_x1 =+ delta_x1  \n",
    "wt_x2 =+ delta_x2"
   ]
  },
  {
   "cell_type": "code",
   "execution_count": 204,
   "id": "9d838a33",
   "metadata": {},
   "outputs": [],
   "source": [
    "d = 5\n",
    "d += 4"
   ]
  },
  {
   "cell_type": "code",
   "execution_count": 205,
   "id": "758a585b",
   "metadata": {},
   "outputs": [
    {
     "data": {
      "text/plain": [
       "9"
      ]
     },
     "execution_count": 205,
     "metadata": {},
     "output_type": "execute_result"
    }
   ],
   "source": [
    "d"
   ]
  },
  {
   "cell_type": "code",
   "execution_count": null,
   "id": "4f9bddad",
   "metadata": {},
   "outputs": [],
   "source": []
  },
  {
   "cell_type": "code",
   "execution_count": null,
   "id": "1dee0130",
   "metadata": {},
   "outputs": [],
   "source": []
  },
  {
   "cell_type": "code",
   "execution_count": null,
   "id": "60674060",
   "metadata": {},
   "outputs": [],
   "source": []
  },
  {
   "cell_type": "code",
   "execution_count": null,
   "id": "8e2b2f80",
   "metadata": {},
   "outputs": [],
   "source": []
  },
  {
   "cell_type": "markdown",
   "id": "bb734761",
   "metadata": {},
   "source": []
  },
  {
   "cell_type": "markdown",
   "id": "742236f3",
   "metadata": {},
   "source": []
  },
  {
   "cell_type": "markdown",
   "id": "d714885b",
   "metadata": {},
   "source": []
  }
 ],
 "metadata": {
  "kernelspec": {
   "display_name": "Python 3 (ipykernel)",
   "language": "python",
   "name": "python3"
  },
  "language_info": {
   "codemirror_mode": {
    "name": "ipython",
    "version": 3
   },
   "file_extension": ".py",
   "mimetype": "text/x-python",
   "name": "python",
   "nbconvert_exporter": "python",
   "pygments_lexer": "ipython3",
   "version": "3.9.7"
  }
 },
 "nbformat": 4,
 "nbformat_minor": 5
}
