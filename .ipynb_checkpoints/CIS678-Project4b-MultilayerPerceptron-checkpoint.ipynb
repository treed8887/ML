{
 "cells": [
  {
   "cell_type": "markdown",
   "id": "5f3fb0c8",
   "metadata": {},
   "source": [
    "# CIS 678 Machine Learning Project 4(b) - Multilayer Perceptron\n",
    "Tyler Reed\n",
    "\n",
    "NOTE: To view all output, use nbviewer link below.\n",
    "https://nbviewer.org/github/treed8887/ML/blob/main/CIS678-Project4b-MultilayerPerceptron.ipynb"
   ]
  },
  {
   "cell_type": "markdown",
   "id": "8e073772",
   "metadata": {},
   "source": [
    "### Overview\n",
    "--------------\n",
    "Implementing a simple multi-layer perceptron using the neural architecture described in the diagram below. Will step through the complete processing of a single instance:\n",
    "\n",
    "    -Feedforward the inputs\n",
    "    -Backpropagate error\n",
    "    -Learn (update weights)"
   ]
  },
  {
   "cell_type": "markdown",
   "id": "456ef49a",
   "metadata": {},
   "source": [
    "### Data\n",
    "---------\n",
    "Data is provided in the neural network displayed above."
   ]
  },
  {
   "cell_type": "code",
   "execution_count": 1,
   "id": "75b46b89",
   "metadata": {},
   "outputs": [],
   "source": [
    "import math"
   ]
  },
  {
   "cell_type": "markdown",
   "id": "dc59b120",
   "metadata": {},
   "source": [
    "### Methodology\n",
    "------------------\n",
    "........"
   ]
  },
  {
   "cell_type": "code",
   "execution_count": 2,
   "id": "f03579a7",
   "metadata": {},
   "outputs": [],
   "source": [
    "def mlperc():\n",
    "    # initialize data\n",
    "    t = 1\n",
    "    eta = 0.5\n",
    "    b_0, I_1, I_2, b_1, h_1, h_2 = 1, 0, 1, 1, None, None\n",
    "    b_0h1, b_0h2, I_1h1, I_1h2, I_2h1, I_2h2, b_1y, h_1y, h_2y = 1, 1, 1, -1, 0.5, 2, 1, 1.5, -1\n",
    "    \n",
    "    for i in range(1,3):\n",
    "        # STEP 1: Feedforward\n",
    "        h1_out = 1/(1+math.exp(-((I_1h1*I_1)+(I_2h1*I_2)+(b_0h1*b_0))))\n",
    "        h2_out = 1/(1+math.exp(-((I_1h2*I_1)+(I_2h2*I_2)+(b_0h2*b_0))))\n",
    "        y = 1/(1+math.exp(-((h_1y*h1_out)+(h_2y*h2_out)+(b_1y*b_0))))\n",
    "        total_e = 0.5*(1-y)**2\n",
    "        print(\"\\033[1m\" + \"Epoch \" + str(i) + \"\\n\" + \"\\033[0m\" + \"Step 1: Feedforward\" + \"\\033[0m\" + \"\\n\"\n",
    "             + \"H1: \" + \"{:.3f}\".format(h1_out)+ \"; \" + \"H2: \" + \"{:.3f}\".format(h2_out) + \"; \"\n",
    "             + \"y: \" + \"{:.3f}\".format(y) + \"\\n\" + \"Total Error in Network: \" \n",
    "             + \"{:.3f}\".format(total_e) + \"\\n\")\n",
    "        if i == 2:\n",
    "            return\n",
    "\n",
    "        # STEP 2: Backpropagation\n",
    "        ey = y*(1-y)*(t-y)\n",
    "        eh_1 = h1_out*(1-h1_out)*(h_1y*ey)\n",
    "        eh_2 = h2_out*(1-h2_out)*(h_2y*ey)\n",
    "        print(\"Step 2: Backpropagation of Errors\" + \"\\n\" + \"E_H1: \" + \"{:.3f}\".format(eh_1)+ \"; \" \n",
    "              + \"E_H2: \" + \"{:.3f}\".format(eh_2) + \"; \" + \"E_y: \" + \"{:.3f}\".format(ey) + \"\\n\")    \n",
    "\n",
    "        # STEP 3: Learn\n",
    "        h_1y = h_1y + (eta)*(ey)*h1_out\n",
    "        h_2y = h_2y + (eta)*(ey)*h2_out\n",
    "        b_1y = b_1y + (eta)*(ey)*b_1\n",
    "\n",
    "        I_1h1 = I_1h1 + (eta)*(eh_1)*(I_1)\n",
    "        I_2h1 = I_2h1 + (eta)*(eh_1)*(I_2)\n",
    "        b_0h1 = b_0h1 + (eta)*(eh_1)*(b_0)\n",
    "\n",
    "        I_1h2 = I_1h2 + (eta)*(eh_2)*(I_1)\n",
    "        I_2h2 = I_2h2 + (eta)*(eh_2)*(I_2)\n",
    "        b_0h2 = b_0h2 + (eta)*(eh_2)*(b_0)\n",
    "        print(\"Step 3: Learn\" + \"\\n\" + \"W_H1y: \" + \"{:.3f}\".format(h_1y)+ \"; \" + \"W_H2y: \" \n",
    "             + \"{:.3f}\".format(h_2y) + \"; \" + \"W_b1y: \" + \"{:.3f}\".format(b_1y) + \"\\n\" + \"W_I1h1: \" \n",
    "             + \"{:.3f}\".format(I_1h1)+ \"; \" + \"W_I2h1: \" + \"{:.3f}\".format(I_2h1) + \"; \" + \"W_b0h1: \" \n",
    "             + \"{:.3f}\".format(b_0h1) + \"\\n\" + \"W_I1h2: \" + \"{:.3f}\".format(I_1h2)+ \"; \" + \"W_I2h2: \" \n",
    "             + \"{:.3f}\".format(I_2h2) + \"; \" + \"W_b0h2: \" + \"{:.3f}\".format(b_0h2) + \"\\n\")"
   ]
  },
  {
   "cell_type": "code",
   "execution_count": 3,
   "id": "4e7780d9",
   "metadata": {},
   "outputs": [
    {
     "name": "stdout",
     "output_type": "stream",
     "text": [
      "\u001b[1mEpoch 1\n",
      "\u001b[0mStep 1: Feedforward\u001b[0m\n",
      "H1: 0.818; H2: 0.953; y: 0.781\n",
      "Total Error in Network: 0.024\n",
      "\n",
      "Step 2: Backpropagation of Errors\n",
      "E_H1: 0.008; E_H2: -0.002; E_y: 0.037\n",
      "\n",
      "Step 3: Learn\n",
      "W_H1y: 1.515; W_H2y: -0.982; W_b1y: 1.019\n",
      "W_I1h1: 1.000; W_I2h1: 0.504; W_b0h1: 1.004\n",
      "W_I1h2: -1.000; W_I2h2: 1.999; W_b0h2: 0.999\n",
      "\n",
      "\u001b[1mEpoch 2\n",
      "\u001b[0mStep 1: Feedforward\u001b[0m\n",
      "H1: 0.819; H2: 0.952; y: 0.790\n",
      "Total Error in Network: 0.022\n",
      "\n"
     ]
    }
   ],
   "source": [
    "mlperc()"
   ]
  }
 ],
 "metadata": {
  "kernelspec": {
   "display_name": "Python 3 (ipykernel)",
   "language": "python",
   "name": "python3"
  },
  "language_info": {
   "codemirror_mode": {
    "name": "ipython",
    "version": 3
   },
   "file_extension": ".py",
   "mimetype": "text/x-python",
   "name": "python",
   "nbconvert_exporter": "python",
   "pygments_lexer": "ipython3",
   "version": "3.9.7"
  }
 },
 "nbformat": 4,
 "nbformat_minor": 5
}
