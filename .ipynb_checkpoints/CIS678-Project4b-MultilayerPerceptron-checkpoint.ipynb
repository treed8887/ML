{
 "cells": [
  {
   "cell_type": "markdown",
   "id": "5f3fb0c8",
   "metadata": {},
   "source": [
    "# CIS 678 Machine Learning Project 4(b) - Multilayer Perceptron\n",
    "Tyler Reed\n",
    "\n",
    "NOTE: To view all output, use nbviewer link below.\n",
    "https://nbviewer.org/github/treed8887/ML/blob/main/CIS678-Project4b-MultilayerPerceptron.ipynb"
   ]
  },
  {
   "cell_type": "markdown",
   "id": "8e073772",
   "metadata": {},
   "source": [
    "### Overview\n",
    "--------------\n",
    "Implementing a simple multi-layer perceptron using the neural architecture described in the diagram below. Will step through the complete processing of a single instance:\n",
    "• Feedforward the inputs\n",
    "• Backpropagate error\n",
    "• Learn (update weights)"
   ]
  },
  {
   "cell_type": "markdown",
   "id": "456ef49a",
   "metadata": {},
   "source": [
    "### Data\n",
    "---------\n",
    "Data is provided in the neural network displayed above."
   ]
  },
  {
   "cell_type": "code",
   "execution_count": 26,
   "id": "75b46b89",
   "metadata": {},
   "outputs": [],
   "source": [
    "import numpy as np\n",
    "import pandas as pd\n",
    "import math"
   ]
  },
  {
   "cell_type": "markdown",
   "id": "dc59b120",
   "metadata": {},
   "source": [
    "### Methodology\n",
    "------------------\n",
    "........"
   ]
  },
  {
   "cell_type": "code",
   "execution_count": 41,
   "id": "34841bde",
   "metadata": {},
   "outputs": [],
   "source": [
    "def mlperc():\n",
    "    # initialize data\n",
    "    b_0, I_1, I_2, b_1, h_1, h_2 = 1, 0, 1, 1, None, None\n",
    "    b_0h1, b_0h2, I_1h1, I_1h2, I_2h1, I_2h2, b_1y, h_1y, h_2y = 1, 1, 1, -1, 0.5, 2, 1, 1.5, -1\n",
    "    \n",
    "    \n",
    "    # STEP 1: feedforward\n",
    "    h1_out = 1/(1+math.exp(-((I_1h1*I_1)+(I_2h1*I_2)+(b_0h1*b_0))))\n",
    "    h2_out = 1/(1+math.exp(-((I_1h2*I_1)+(I_2h2*I_2)+(b_0h2*b_0))))\n",
    "    y = 1/(1+math.exp(-((h_1y*h1_out)+(h_2y*h2_out)+(b_1y*b_0))))\n",
    "    total_e = 0.5*(1-y)**2\n",
    "    print(total_e)\n",
    "    \n",
    "    # STEP 2: Backpropagation\n",
    "    \n",
    "    "
   ]
  },
  {
   "cell_type": "code",
   "execution_count": 42,
   "id": "01728bba",
   "metadata": {},
   "outputs": [
    {
     "name": "stdout",
     "output_type": "stream",
     "text": [
      "0.023895071840696763\n"
     ]
    }
   ],
   "source": [
    "mlperc()"
   ]
  },
  {
   "cell_type": "code",
   "execution_count": 2,
   "id": "64d85a33",
   "metadata": {
    "scrolled": true
   },
   "outputs": [],
   "source": [
    "# def mlperc():\n",
    "#     # initialize data\n",
    "#     inputs = {'layer1':{'b_0':1, 'I_1':0, 'I_2':1}, 'layer2':{'b_1':1, 'h_1':None, 'h_2':None}}\n",
    "#     wts = {'layer1':{'b_0h1':1, 'b_0h2':1, 'I_1h1':1, 'I_1h2':-1, 'I_2h1':0.5, 'I_2h2':2}, \n",
    "#            'layer2':{'b_1y':1, 'h_1y':1.5, 'h_2y':-1}}\n",
    "    \n",
    "#     # feedforward\n",
    "#     h1_out = (wts['layer1']['b_0h1']*inputs[])\n",
    "    \n",
    "    "
   ]
  },
  {
   "cell_type": "code",
   "execution_count": 3,
   "id": "6f68c333",
   "metadata": {},
   "outputs": [
    {
     "name": "stdout",
     "output_type": "stream",
     "text": [
      "{'layer1': {'b_0': 1, 'I_1': 0, 'I_2': 1}, 'layer2': {'b_1': 1, 'h_1': None, 'h_2': None}} {'layer1': {'b_0h1': 1, 'b_0h2': 1, 'I_1h1': 1, 'I_1h2': -1, 'I_2h1': 0.5, 'I_2h2': 2}, 'layer2': {'b_1y': 1, 'h_1y': 1.5, 'h_2y': -1}}\n"
     ]
    }
   ],
   "source": [
    "mlperc()"
   ]
  },
  {
   "cell_type": "code",
   "execution_count": 15,
   "id": "05452399",
   "metadata": {},
   "outputs": [],
   "source": [
    "inputs = {'layer1':{'b_0':1, 'I_1':0, 'I_2':1}, 'layer2':{'b_1':1, 'h_1':None, 'h_2':None}}\n",
    "inputs['layer2']['h_1'] = '767'\n"
   ]
  },
  {
   "cell_type": "code",
   "execution_count": 16,
   "id": "ab347957",
   "metadata": {},
   "outputs": [
    {
     "data": {
      "text/plain": [
       "{'b_1': 1, 'h_1': '767', 'h_2': None}"
      ]
     },
     "execution_count": 16,
     "metadata": {},
     "output_type": "execute_result"
    }
   ],
   "source": [
    "inputs['layer2']"
   ]
  },
  {
   "cell_type": "code",
   "execution_count": 4,
   "id": "70c203b4",
   "metadata": {},
   "outputs": [],
   "source": [
    "# def learn_bool():\n",
    "#     # which boolean to learn\n",
    "#     bln = \"AND\"\n",
    "    \n",
    "#     # retrieve dataframe for specified boolean\n",
    "#     t_df = bool_df.filter(items=[\"x1\", \"x2\", bln]) \n",
    "    \n",
    "#     # initialize weights, bias, bln types, learning rate\n",
    "#     wt_x1 = rand.random()\n",
    "#     wt_x2 = rand.random()\n",
    "#     wt_b = rand.random()\n",
    "#     b = 1\n",
    "#     eta = 0.25\n",
    "#     correct = 0 # number of correct outputs per epoch\n",
    "#     epoch = 0\n",
    "    \n",
    "#     # iterate through instances to learn final wts\n",
    "#     while correct != 4:\n",
    "#         correct = 0\n",
    "#         for row in t_df.iterrows():\n",
    "#             x1 = row[1][0]\n",
    "#             x2 = row[1][1]\n",
    "#             t = row[1][2] \n",
    "#             # calculate sum of products\n",
    "#             s = (wt_x1*x1 + wt_x2*x2 + wt_b*b)\n",
    "#             # determine output\n",
    "#             if s > 0:\n",
    "#                 y = 1\n",
    "#             else:\n",
    "#                 y = 0\n",
    "#             # is output correct?\n",
    "#             if y != t:\n",
    "#                 # calculate delta to add to wts\n",
    "#                 delta_x1 = eta*(t-y)*x1\n",
    "#                 delta_x2 = eta*(t-y)*x2\n",
    "#                 delta_b = eta*(t-y)*b\n",
    "#                 wt_x1 += delta_x1  \n",
    "#                 wt_x2 += delta_x2\n",
    "#                 wt_b += delta_b\n",
    "#             else:\n",
    "#                 correct += 1\n",
    "#         epoch += 1\n",
    "#         # print wts and no. correct after each epoch\n",
    "#         print(\"Epoch \" + str(epoch) + \"\\n\" + \"No. Correct Outputs: \" + str(correct) + \"\\n\" + \"wt_x1: \" + \"{:.2f}\".format(wt_x1) + \"\\n\"\n",
    "#               + \"x2 wt: \" + \"{:.2f}\".format(wt_x2) + \"\\n\" + \"bias wt: \" + \"{:.2f}\".format(wt_b) + \"\\n\")\n",
    "        \n",
    "#     print(\"\\n\" + \"\\033[1m\" + \"Termination Condition Met\" + \"\\033[0m\" + \"\\n\" + \"Boolean Function: \" + bln + \"\\n\" + \"Final Epoch \" \n",
    "#           + str(epoch) + \"\\n\" + \"No. Correct Outputs: \" + str(correct) + \"\\n\" + \"\\n\" + \"x1 wt: \" + \"{:.2f}\".format(wt_x1) + \"; \" \n",
    "#           + \"x2 wt: \" + \"{:.2f}\".format(wt_x2) + \"; \" + \"bias wt: \" + \"{:.2f}\".format(wt_b) + \"\\n\")\n",
    "#     return \n",
    "\n",
    "# learn_bool()"
   ]
  }
 ],
 "metadata": {
  "kernelspec": {
   "display_name": "Python 3 (ipykernel)",
   "language": "python",
   "name": "python3"
  },
  "language_info": {
   "codemirror_mode": {
    "name": "ipython",
    "version": 3
   },
   "file_extension": ".py",
   "mimetype": "text/x-python",
   "name": "python",
   "nbconvert_exporter": "python",
   "pygments_lexer": "ipython3",
   "version": "3.9.7"
  }
 },
 "nbformat": 4,
 "nbformat_minor": 5
}
