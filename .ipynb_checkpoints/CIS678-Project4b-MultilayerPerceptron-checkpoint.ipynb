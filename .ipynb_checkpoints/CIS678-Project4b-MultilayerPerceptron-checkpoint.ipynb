{
 "cells": [
  {
   "cell_type": "markdown",
   "id": "5f3fb0c8",
   "metadata": {},
   "source": [
    "# CIS 678 Machine Learning Project 4(b) - Multilayer Perceptron\n",
    "Tyler Reed\n",
    "\n",
    "NOTE: To view all output, use nbviewer link below.\n",
    "https://nbviewer.org/github/treed8887/ML/blob/main/CIS678-Project4b-MultilayerPerceptron.ipynb"
   ]
  },
  {
   "cell_type": "markdown",
   "id": "8e073772",
   "metadata": {},
   "source": [
    "### Overview\n",
    "--------------\n",
    "Implementing a simple multi-layer perceptron using the neural architecture described in the diagram below. Will step through the complete processing of a single instance:\n",
    "• Feedforward the inputs\n",
    "• Backpropagate error\n",
    "• Learn (update weights)"
   ]
  },
  {
   "cell_type": "markdown",
   "id": "456ef49a",
   "metadata": {},
   "source": [
    "### Data\n",
    "---------\n",
    "Data is provided in the neural network displayed above."
   ]
  },
  {
   "cell_type": "code",
   "execution_count": 1,
   "id": "75b46b89",
   "metadata": {},
   "outputs": [],
   "source": [
    "import numpy as np\n",
    "import pandas as pd\n",
    "import random as rand"
   ]
  },
  {
   "cell_type": "markdown",
   "id": "dc59b120",
   "metadata": {},
   "source": [
    "### Methodology\n",
    "------------------\n",
    "........"
   ]
  },
  {
   "cell_type": "code",
   "execution_count": null,
   "id": "64d85a33",
   "metadata": {
    "scrolled": true
   },
   "outputs": [],
   "source": [
    "def mlperc():\n",
    "    # initialize data\n",
    "    layer_1 = {'b_0':1, 'I_1':0, 'I_2':1}\n",
    "    layer_2 = {'b_1':1, 'h_1':null}"
   ]
  },
  {
   "cell_type": "code",
   "execution_count": null,
   "id": "aab288db",
   "metadata": {},
   "outputs": [],
   "source": [
    "# def learn_bool():\n",
    "#     # which boolean to learn\n",
    "#     bln = \"AND\"\n",
    "    \n",
    "#     # retrieve dataframe for specified boolean\n",
    "#     t_df = bool_df.filter(items=[\"x1\", \"x2\", bln]) \n",
    "    \n",
    "#     # initialize weights, bias, bln types, learning rate\n",
    "#     wt_x1 = rand.random()\n",
    "#     wt_x2 = rand.random()\n",
    "#     wt_b = rand.random()\n",
    "#     b = 1\n",
    "#     eta = 0.25\n",
    "#     correct = 0 # number of correct outputs per epoch\n",
    "#     epoch = 0\n",
    "    \n",
    "#     # iterate through instances to learn final wts\n",
    "#     while correct != 4:\n",
    "#         correct = 0\n",
    "#         for row in t_df.iterrows():\n",
    "#             x1 = row[1][0]\n",
    "#             x2 = row[1][1]\n",
    "#             t = row[1][2] \n",
    "#             # calculate sum of products\n",
    "#             s = (wt_x1*x1 + wt_x2*x2 + wt_b*b)\n",
    "#             # determine output\n",
    "#             if s > 0:\n",
    "#                 y = 1\n",
    "#             else:\n",
    "#                 y = 0\n",
    "#             # is output correct?\n",
    "#             if y != t:\n",
    "#                 # calculate delta to add to wts\n",
    "#                 delta_x1 = eta*(t-y)*x1\n",
    "#                 delta_x2 = eta*(t-y)*x2\n",
    "#                 delta_b = eta*(t-y)*b\n",
    "#                 wt_x1 += delta_x1  \n",
    "#                 wt_x2 += delta_x2\n",
    "#                 wt_b += delta_b\n",
    "#             else:\n",
    "#                 correct += 1\n",
    "#         epoch += 1\n",
    "#         # print wts and no. correct after each epoch\n",
    "#         print(\"Epoch \" + str(epoch) + \"\\n\" + \"No. Correct Outputs: \" + str(correct) + \"\\n\" + \"wt_x1: \" + \"{:.2f}\".format(wt_x1) + \"\\n\"\n",
    "#               + \"x2 wt: \" + \"{:.2f}\".format(wt_x2) + \"\\n\" + \"bias wt: \" + \"{:.2f}\".format(wt_b) + \"\\n\")\n",
    "        \n",
    "#     print(\"\\n\" + \"\\033[1m\" + \"Termination Condition Met\" + \"\\033[0m\" + \"\\n\" + \"Boolean Function: \" + bln + \"\\n\" + \"Final Epoch \" \n",
    "#           + str(epoch) + \"\\n\" + \"No. Correct Outputs: \" + str(correct) + \"\\n\" + \"\\n\" + \"x1 wt: \" + \"{:.2f}\".format(wt_x1) + \"; \" \n",
    "#           + \"x2 wt: \" + \"{:.2f}\".format(wt_x2) + \"; \" + \"bias wt: \" + \"{:.2f}\".format(wt_b) + \"\\n\")\n",
    "#     return \n",
    "\n",
    "# learn_bool()"
   ]
  }
 ],
 "metadata": {
  "kernelspec": {
   "display_name": "Python 3 (ipykernel)",
   "language": "python",
   "name": "python3"
  },
  "language_info": {
   "codemirror_mode": {
    "name": "ipython",
    "version": 3
   },
   "file_extension": ".py",
   "mimetype": "text/x-python",
   "name": "python",
   "nbconvert_exporter": "python",
   "pygments_lexer": "ipython3",
   "version": "3.9.7"
  }
 },
 "nbformat": 4,
 "nbformat_minor": 5
}
