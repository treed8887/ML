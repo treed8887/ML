{
 "cells": [
  {
   "cell_type": "markdown",
   "id": "a6b9e9aa",
   "metadata": {},
   "source": [
    "# CIS 678 Machine Learning: Naive Bayes Intro\n",
    "Tyler Reed\n",
    "\n",
    "NOTE: To view all output, use nbviewer link below.\n",
    "https://nbviewer.org/github/treed8887/ML/blob/main/CIS678-Project2-Part1.ipynb"
   ]
  },
  {
   "cell_type": "markdown",
   "id": "db0771ce",
   "metadata": {},
   "source": [
    "### Overview\n",
    "--------------\n",
    "A collection of labeled fishing data describing ideal conditions to fish on a particular day is provided to create a basic classifier. The Naive-Bayes algorithm is implemented."
   ]
  },
  {
   "cell_type": "code",
   "execution_count": 506,
   "id": "84e9b260",
   "metadata": {},
   "outputs": [
    {
     "name": "stdout",
     "output_type": "stream",
     "text": [
      "   Ideal    Wind  AirTemp     Water     Sky\n",
      "0    Yes  Strong  WarmAir      Warm   Sunny\n",
      "1     No    Weak  WarmAir      Warm   Sunny\n",
      "2    Yes  Strong  WarmAir      Warm  Cloudy\n",
      "3    Yes  Strong  WarmAir  Moderate   Rainy\n",
      "4     No  Strong  ColdAir      Cold  Cloudy\n",
      "5     No    Weak  ColdAir      Cold   Rainy\n",
      "6     No    Weak  ColdAir      Cold   Sunny\n",
      "7    Yes  Strong  WarmAir  Moderate   Sunny\n",
      "8    Yes  Strong  ColdAir      Cold   Sunny\n",
      "9     No  Strong  ColdAir  Moderate   Rainy\n",
      "10   Yes    Weak  ColdAir  Moderate   Sunny\n",
      "11   Yes    Weak  WarmAir  Moderate   Sunny\n",
      "12   Yes  Strong  ColdAir      Warm   Sunny\n",
      "13    No    Weak  WarmAir  Moderate   Rainy\n"
     ]
    }
   ],
   "source": [
    "import numpy as np\n",
    "import pandas as pd\n",
    "df = pd.read_csv('/Users/Study/Downloads/CIS678/fishing-revised.data', \n",
    "                 sep=\" \", \n",
    "                 names=('Ideal', 'Wind', 'AirTemp', 'Water', 'Sky'))\n",
    "print(df)"
   ]
  },
  {
   "cell_type": "markdown",
   "id": "eafade92",
   "metadata": {},
   "source": [
    "### Learning Probabilities\n",
    "<ins>Simplifying Assumption</ins>: all instances are independent of each other.\n",
    "\n",
    "The following function takes the first column (assumed to be class variable) and two strings, one for each class. It determines the prior probabilities."
   ]
  },
  {
   "cell_type": "code",
   "execution_count": 507,
   "id": "fba86a4f",
   "metadata": {},
   "outputs": [],
   "source": [
    "# Estimate probability of each class for k=2 problem\n",
    "def classp(np, cval1, cval2):\n",
    "    count_cval1 = 0\n",
    "    count_cval2 = 0\n",
    "    for clss1 in np:\n",
    "        if clss1 == cval1:\n",
    "            count_cval1+=1\n",
    "        else:\n",
    "            count_cval2+=1\n",
    "    pcval1 = count_cval1 / len(np)\n",
    "    pcval2 = count_cval2 / len(np)\n",
    "    fpcval1 = \"{:.2f}\".format(pcval1)\n",
    "    fpcval2 = \"{:.2f}\".format(pcval2)\n",
    "    return fpcval1, fpcval2\n",
    "\n",
    "class_prob = classp(df[\"Ideal\"], \"Yes\", \"No\")"
   ]
  },
  {
   "cell_type": "markdown",
   "id": "713128af",
   "metadata": {},
   "source": [
    "#### Conditional Probabilities\n",
    "Next are two functions to determine the conditional probabilities of each attribute, one conditional probability for each class."
   ]
  },
  {
   "cell_type": "code",
   "execution_count": 508,
   "id": "9f1dc666",
   "metadata": {},
   "outputs": [],
   "source": [
    "import collections as col\n",
    "def cond_proby(df, cval1):\n",
    "    # separate classes\n",
    "    df_y = df[df.iloc[:,0] == cval1]\n",
    "    # convert to dictionary and remove class variable\n",
    "    ydict = df_y.to_dict()\n",
    "    del ydict[\"Ideal\"]\n",
    "    ndict = df_n.to_dict()\n",
    "    del ndict[\"Ideal\"]\n",
    "    # cond probabilities for 'Yes' class\n",
    "    i=-1\n",
    "    pr_ydict = dict.fromkeys(ydict.keys(), 0)\n",
    "    for key in ydict.values():\n",
    "        i = i+1\n",
    "        jval = col.Counter(key.values())\n",
    "        count_y = np.array(list(jval.keys()))\n",
    "        values_y = np.array(list(jval.values()))\n",
    "        probs_y = values_y / 8\n",
    "        val_ydict = dict(zip(count_y, probs_y))\n",
    "        if i<len(pr_ydict):\n",
    "            pr_ydict[list(ydict.keys())[i]] = val_ydict\n",
    "    return pr_ydict"
   ]
  },
  {
   "cell_type": "code",
   "execution_count": 509,
   "id": "650b5bfe",
   "metadata": {},
   "outputs": [],
   "source": [
    "def cond_probn(df, cval2):\n",
    "    # separate classes\n",
    "    df_n = df[df.iloc[:,0] == cval2]\n",
    "    # convert to dictionary and remove class variable\n",
    "    ndict = df_n.to_dict()\n",
    "    del ndict[\"Ideal\"]\n",
    "    # cond probabilities for 'No' class\n",
    "    i=-1\n",
    "    pr_ndict = dict.fromkeys(ndict.keys(), 0)\n",
    "    for key in ndict.values():\n",
    "        i = i+1\n",
    "        jval = col.Counter(key.values())\n",
    "        count_n = np.array(list(jval.keys()))\n",
    "        values_n = np.array(list(jval.values()))\n",
    "        probs_n = values_n / 6\n",
    "        val_ndict = dict(zip(count_n, probs_n))\n",
    "        if i<len(pr_ndict):\n",
    "            pr_ndict[list(ndict.keys())[i]] = val_ndict\n",
    "    return pr_ndict"
   ]
  },
  {
   "cell_type": "markdown",
   "id": "8de173f0",
   "metadata": {},
   "source": [
    "#### Naive Bayes Classifier\n",
    "Below is a Naive Bayes classifier function incorporating the output of the other functions above. It includes an input segment which has the user provide the new instance to be classified. "
   ]
  },
  {
   "cell_type": "code",
   "execution_count": 510,
   "id": "551f7143",
   "metadata": {},
   "outputs": [],
   "source": [
    "def nb_class():\n",
    "    new_inst = input(\"Enter new instance: \")\n",
    "    # place input into list \n",
    "    l = new_inst.split(\" \")\n",
    "    print(\"\\n\")\n",
    "\n",
    "    print(\"Prior Probabilities\\n\" + \"P(Yes): \" + str(class_prob[0]) + \"\\n\" + \"P(No): \" + str(class_prob[1]))\n",
    "    print(\"\\n\")\n",
    "    # compute conditional probability of instance for class \"Yes\"\n",
    "    cy = cond_proby(df, \"Yes\")\n",
    "    print(\"Conditional probabilities\")\n",
    "    i = -1\n",
    "    CnbY = 1\n",
    "    for val in cy.values():\n",
    "        i = i+1\n",
    "        print(val[l[i]])\n",
    "        CnbY = CnbY*val[l[i]]\n",
    "\n",
    "    # compute conditional probability of instance for class \"No\"\n",
    "    cn = cond_probn(df, \"No\")\n",
    "    i = -1\n",
    "    CnbN = 1\n",
    "    for val in cn.values():\n",
    "        i = i+1\n",
    "        CnbN = CnbN*val[l[i]]\n",
    "    # format probabilites to 3 decimal places\n",
    "    fcY = \"{:.3f}\".format(CnbY*float(class_prob[0]))\n",
    "    fcN = \"{:.3f}\".format(CnbN*float(class_prob[1]))\n",
    "    print(\"\\n\")\n",
    "    print(\"Class probabilities: \\n\" + \"Yes: \" + fcY + \"\\n\" + \"No: \" + fcN)\n",
    "    print(\"\\n\")\n",
    "    \n",
    "    # determine class based on which conditional class probability is higher\n",
    "    if CnbY*float(class_prob[0]) > CnbN*float(class_prob[1]):\n",
    "        print(\"Classify: Yes\")\n",
    "    else:\n",
    "        print(\"Classify: No\")\n",
    "    return"
   ]
  },
  {
   "cell_type": "code",
   "execution_count": 511,
   "id": "df1487b0",
   "metadata": {},
   "outputs": [
    {
     "name": "stdout",
     "output_type": "stream",
     "text": [
      "Enter new instance: Strong WarmAir Cold Sunny\n",
      "\n",
      "\n",
      "Prior Probabilities\n",
      "P(Yes): 0.57\n",
      "P(No): 0.43\n",
      "\n",
      "\n",
      "Conditional probabilities\n",
      "0.75\n",
      "0.625\n",
      "0.125\n",
      "0.75\n",
      "\n",
      "\n",
      "Class probabilities: \n",
      "Yes: 0.025\n",
      "No: 0.008\n",
      "\n",
      "\n",
      "Classify: Yes\n"
     ]
    }
   ],
   "source": [
    "nb_class()"
   ]
  },
  {
   "cell_type": "code",
   "execution_count": 512,
   "id": "f76d6b82",
   "metadata": {},
   "outputs": [
    {
     "name": "stdout",
     "output_type": "stream",
     "text": [
      "Enter new instance: Weak ColdAir Cold Sunny\n",
      "\n",
      "\n",
      "Prior Probabilities\n",
      "P(Yes): 0.57\n",
      "P(No): 0.43\n",
      "\n",
      "\n",
      "Conditional probabilities\n",
      "0.25\n",
      "0.375\n",
      "0.125\n",
      "0.75\n",
      "\n",
      "\n",
      "Class probabilities: \n",
      "Yes: 0.005\n",
      "No: 0.032\n",
      "\n",
      "\n",
      "Classify: No\n"
     ]
    }
   ],
   "source": [
    "nb_class()"
   ]
  },
  {
   "cell_type": "code",
   "execution_count": 513,
   "id": "11ff85ca",
   "metadata": {},
   "outputs": [
    {
     "name": "stdout",
     "output_type": "stream",
     "text": [
      "Enter new instance: Strong WarmAir Moderate Cloudy\n",
      "\n",
      "\n",
      "Prior Probabilities\n",
      "P(Yes): 0.57\n",
      "P(No): 0.43\n",
      "\n",
      "\n",
      "Conditional probabilities\n",
      "0.75\n",
      "0.625\n",
      "0.5\n",
      "0.125\n",
      "\n",
      "\n",
      "Class probabilities: \n",
      "Yes: 0.017\n",
      "No: 0.003\n",
      "\n",
      "\n",
      "Classify: Yes\n"
     ]
    }
   ],
   "source": [
    "nb_class()"
   ]
  },
  {
   "cell_type": "markdown",
   "id": "511c0e46",
   "metadata": {},
   "source": [
    "### Conclusion\n",
    "----------------\n",
    "Overall, the classifier algorithm performs as expected when measuring against the tutorial. The prior probabilities function could have been built with a dictionary instead of using a pandas DataFrame and all functions could have probably been simpler with more experience using Python and dictionaries. "
   ]
  }
 ],
 "metadata": {
  "kernelspec": {
   "display_name": "Python 3 (ipykernel)",
   "language": "python",
   "name": "python3"
  },
  "language_info": {
   "codemirror_mode": {
    "name": "ipython",
    "version": 3
   },
   "file_extension": ".py",
   "mimetype": "text/x-python",
   "name": "python",
   "nbconvert_exporter": "python",
   "pygments_lexer": "ipython3",
   "version": "3.9.7"
  }
 },
 "nbformat": 4,
 "nbformat_minor": 5
}
