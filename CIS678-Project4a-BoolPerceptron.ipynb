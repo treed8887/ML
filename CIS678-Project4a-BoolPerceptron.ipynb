{
 "cells": [
  {
   "cell_type": "markdown",
   "id": "5f3fb0c8",
   "metadata": {},
   "source": [
    "# CIS 678 Machine Learning Project 4(a) - Boolean Function Perceptron\n",
    "Tyler Reed\n",
    "\n",
    "NOTE: To view all output, use nbviewer link below.\n",
    "https://nbviewer.org/github/treed8887/ML/blob/main/CIS678-Project4a-BoolPerceptron.ipynb"
   ]
  },
  {
   "cell_type": "markdown",
   "id": "8e073772",
   "metadata": {},
   "source": [
    "### Overview\n",
    "--------------\n",
    "Four linearly-separable, two-input Boolean functions, (AND, OR, NAND, NOR), will be modeled by a perceptron that will learn the weights of each function for classification."
   ]
  },
  {
   "cell_type": "markdown",
   "id": "456ef49a",
   "metadata": {},
   "source": [
    "### Data\n",
    "---------\n",
    "The data of each boolean function is within a csv file as shown below as a pandas dataframe."
   ]
  },
  {
   "cell_type": "code",
   "execution_count": 1,
   "id": "75b46b89",
   "metadata": {},
   "outputs": [
    {
     "name": "stdout",
     "output_type": "stream",
     "text": [
      "   x1  x2  AND  OR  NAND  NOR\n",
      "0   0   0    0   0     1    1\n",
      "1   0   1    0   1     1    0\n",
      "2   1   0    0   1     1    0\n",
      "3   1   1    1   1     0    0\n"
     ]
    }
   ],
   "source": [
    "import numpy as np\n",
    "import pandas as pd\n",
    "import random as rand\n",
    "bool_df = pd.read_csv('/Users/Study/Downloads/CIS678/ML/Booleans.csv', sep=\",\", header=0)\n",
    "print(bool_df)"
   ]
  },
  {
   "cell_type": "markdown",
   "id": "dc59b120",
   "metadata": {},
   "source": [
    "### Methodology\n",
    "------------------\n",
    "The following function is defined with one argument: `bln` as the type of boolean function to be learned. Valid input arguments are \"AND\", \"OR\", \"NAND\", \"NOR\". \n",
    "\n",
    "#### Activation\n",
    "The activation of the perceptron uses a Sum of Products operation with a \"step\" function (y) as follows: "
   ]
  },
  {
   "attachments": {
    "Screen%20Shot%202022-04-04%20at%204.48.04%20PM.png": {
     "image/png": "[encoded data removed]"
    }
   },
   "cell_type": "markdown",
   "id": "e0505cb1",
   "metadata": {},
   "source": [
    "\n",
    "\n",
    "![Screen%20Shot%202022-04-04%20at%204.48.04%20PM.png](attachment:Screen%20Shot%202022-04-04%20at%204.48.04%20PM.png)"
   ]
  },
  {
   "cell_type": "markdown",
   "id": "4e5fe73f",
   "metadata": {},
   "source": [
    "#### Learning \n",
    "\n",
    "After activation, if the output is not equal to the target, then the perceptron updates the weights with the following \"Delta\" rule:"
   ]
  },
  {
   "attachments": {
    "Screen%20Shot%202022-04-04%20at%204.52.33%20PM.png": {
     "image/png": "[encoded data removed]"
    }
   },
   "cell_type": "markdown",
   "id": "19e1d75d",
   "metadata": {},
   "source": [
    "![Screen%20Shot%202022-04-04%20at%204.52.33%20PM.png](attachment:Screen%20Shot%202022-04-04%20at%204.52.33%20PM.png)"
   ]
  },
  {
   "cell_type": "markdown",
   "id": "1a7c97b1",
   "metadata": {},
   "source": [
    "#### Termination Condition"
   ]
  },
  {
   "cell_type": "markdown",
   "id": "702c1494",
   "metadata": {},
   "source": [
    "After each instance of the training data is correctly classified, which is a total of four instances, the function stops updating the weights and outputs the final weights learned by the model."
   ]
  },
  {
   "cell_type": "code",
   "execution_count": 27,
   "id": "64d85a33",
   "metadata": {},
   "outputs": [],
   "source": [
    "def learn_bool(bln):\n",
    "    # retrieve dataframe for specified boolean\n",
    "    t_df = bool_df.filter(items=[\"x1\", \"x2\", bln]) \n",
    "    \n",
    "    # initialize weights, bias, bln types, learning rate\n",
    "    wt_x1 = rand.random()\n",
    "    wt_x2 = rand.random()\n",
    "    wt_b = rand.random()\n",
    "    b = 1\n",
    "    eta = 0.25\n",
    "    correct = 0 # number of correct outputs per epoch\n",
    "    epoch = 0\n",
    "    \n",
    "    print(\"\\033[1m\"  + \"Boolean Function: \" + bln + \"\\033[0m\" + \"\\n\" + \"Initial Weights: \" + \"\\n\" + \"x1 wt: \" + \"{:.2f}\".format(wt_x1) + \"; \" \n",
    "          + \"x2 wt: \" + \"{:.2f}\".format(wt_x2) + \"; \" + \"bias wt: \" + \"{:.2f}\".format(wt_b) + \"\\n\")\n",
    "    \n",
    "    # iterate through instances to learn final wts\n",
    "    while correct != 4:\n",
    "        correct = 0\n",
    "        for row in t_df.iterrows():\n",
    "            x1 = row[1][0]\n",
    "            x2 = row[1][1]\n",
    "            t = row[1][2] \n",
    "            # calculate sum of products\n",
    "            s = (wt_x1*x1 + wt_x2*x2 + wt_b*b)\n",
    "            # determine output\n",
    "            if s > 0:\n",
    "                y = 1\n",
    "            else:\n",
    "                y = 0\n",
    "            # is output correct?\n",
    "            if y != t:\n",
    "                # calculate delta to add to wts\n",
    "                wt_x1 += eta*(t-y)*x1\n",
    "                wt_x2 += eta*(t-y)*x2\n",
    "                wt_b += eta*(t-y)*b\n",
    "            else:\n",
    "                correct += 1\n",
    "        epoch += 1\n",
    "        # print wts and no. correct after each epoch\n",
    "        print(\"\\n\" + \"\\033[0m\" + \"Epoch \" + str(epoch) + \"\\n\" + \"No. Correct Outputs: \" + str(correct) + \"\\n\" + \"Ending Epoch Weights: \" + \"\\n\" + \"x1 wt: \" + \"{:.2f}\".format(wt_x1) + \"; \" \n",
    "          + \"x2 wt: \" + \"{:.2f}\".format(wt_x2) + \"; \" + \"bias wt: \" + \"{:.2f}\".format(wt_b) + \"\\n\" + \"\\n\"\n",
    "             + \"\\n\" + \"*********************************************\" + \"\\n\")\n",
    "        \n",
    "    print(\"\\033[1m\" + \"Termination Condition Met\" + \"\\033[0m\" + \"\\n\" + \"Boolean Function: \" + bln + \"\\n\" + \"Solution took \" +  str(epoch) + \" epochs\" \n",
    "          + \"\\n\" + \"\\n\" + \"x1 wt: \" + \"{:.2f}\".format(wt_x1) + \"; \" \n",
    "          + \"x2 wt: \" + \"{:.2f}\".format(wt_x2) + \"; \" + \"bias wt: \" + \"{:.2f}\".format(wt_b) + \"\\n\")\n",
    "    return "
   ]
  },
  {
   "cell_type": "markdown",
   "id": "1c282e5d",
   "metadata": {},
   "source": [
    "### Training\n",
    "-------------\n",
    "\n",
    "The following functions are called with each of the four two-input, linearly-separable Boolean functions. Each will display the final learned weights, how many epochs required to reach termination condition and the Boolean function type learned."
   ]
  },
  {
   "cell_type": "code",
   "execution_count": 28,
   "id": "42163b94",
   "metadata": {},
   "outputs": [
    {
     "name": "stdout",
     "output_type": "stream",
     "text": [
      "\u001b[1mBoolean Function: AND\u001b[0m\n",
      "Initial Weights: \n",
      "x1 wt: 0.79; x2 wt: 0.40; bias wt: 0.67\n",
      "\n",
      "\n",
      "\u001b[0mEpoch 1\n",
      "No. Correct Outputs: 1\n",
      "Ending Epoch Weights: \n",
      "x1 wt: 0.54; x2 wt: 0.15; bias wt: -0.08\n",
      "\n",
      "\n",
      "*********************************************\n",
      "\n",
      "\n",
      "\u001b[0mEpoch 2\n",
      "No. Correct Outputs: 1\n",
      "Ending Epoch Weights: \n",
      "x1 wt: 0.54; x2 wt: 0.15; bias wt: -0.33\n",
      "\n",
      "\n",
      "*********************************************\n",
      "\n",
      "\n",
      "\u001b[0mEpoch 3\n",
      "No. Correct Outputs: 2\n",
      "Ending Epoch Weights: \n",
      "x1 wt: 0.54; x2 wt: 0.40; bias wt: -0.33\n",
      "\n",
      "\n",
      "*********************************************\n",
      "\n",
      "\n",
      "\u001b[0mEpoch 4\n",
      "No. Correct Outputs: 3\n",
      "Ending Epoch Weights: \n",
      "x1 wt: 0.54; x2 wt: 0.15; bias wt: -0.58\n",
      "\n",
      "\n",
      "*********************************************\n",
      "\n",
      "\n",
      "\u001b[0mEpoch 5\n",
      "No. Correct Outputs: 4\n",
      "Ending Epoch Weights: \n",
      "x1 wt: 0.54; x2 wt: 0.15; bias wt: -0.58\n",
      "\n",
      "\n",
      "*********************************************\n",
      "\n",
      "\u001b[1mTermination Condition Met\u001b[0m\n",
      "Boolean Function: AND\n",
      "Solution took 5 epochs\n",
      "\n",
      "x1 wt: 0.54; x2 wt: 0.15; bias wt: -0.58\n",
      "\n"
     ]
    }
   ],
   "source": [
    "learn_bool(\"AND\")"
   ]
  },
  {
   "cell_type": "code",
   "execution_count": 23,
   "id": "c3b48550",
   "metadata": {},
   "outputs": [
    {
     "name": "stdout",
     "output_type": "stream",
     "text": [
      "\u001b[1mBoolean Function: OR\u001b[0m\n",
      "Initial Weights: \n",
      "x1 wt: 0.53; x2 wt: 0.85; bias wt: 0.49\n",
      "\n",
      "\n",
      "\u001b[0mEpoch 1\n",
      "No. Correct Outputs: 3\n",
      "x1 wt: 0.53\n",
      "x2 wt: 0.85\n",
      "bias wt: 0.24\n",
      "\n",
      "*********************************************\n",
      "\n",
      "\n",
      "\u001b[0mEpoch 2\n",
      "No. Correct Outputs: 3\n",
      "x1 wt: 0.53\n",
      "x2 wt: 0.85\n",
      "bias wt: -0.01\n",
      "\n",
      "*********************************************\n",
      "\n",
      "\n",
      "\u001b[0mEpoch 3\n",
      "No. Correct Outputs: 4\n",
      "x1 wt: 0.53\n",
      "x2 wt: 0.85\n",
      "bias wt: -0.01\n",
      "\n",
      "*********************************************\n",
      "\n",
      "\u001b[1mTermination Condition Met\u001b[0m\n",
      "Boolean Function: OR\n",
      "Solution took 3 epochs\n",
      "\n",
      "x1 wt: 0.53; x2 wt: 0.85; bias wt: -0.01\n",
      "\n"
     ]
    }
   ],
   "source": [
    "learn_bool(\"OR\")"
   ]
  },
  {
   "cell_type": "code",
   "execution_count": 24,
   "id": "d4cc5511",
   "metadata": {},
   "outputs": [
    {
     "name": "stdout",
     "output_type": "stream",
     "text": [
      "\u001b[1mBoolean Function: NAND\u001b[0m\n",
      "Initial Weights: \n",
      "x1 wt: 0.75; x2 wt: 0.02; bias wt: 0.73\n",
      "\n",
      "\n",
      "\u001b[0mEpoch 1\n",
      "No. Correct Outputs: 3\n",
      "x1 wt: 0.50\n",
      "x2 wt: -0.23\n",
      "bias wt: 0.48\n",
      "\n",
      "*********************************************\n",
      "\n",
      "\n",
      "\u001b[0mEpoch 2\n",
      "No. Correct Outputs: 3\n",
      "x1 wt: 0.25\n",
      "x2 wt: -0.48\n",
      "bias wt: 0.23\n",
      "\n",
      "*********************************************\n",
      "\n",
      "\n",
      "\u001b[0mEpoch 3\n",
      "No. Correct Outputs: 2\n",
      "x1 wt: -0.00\n",
      "x2 wt: -0.48\n",
      "bias wt: 0.23\n",
      "\n",
      "*********************************************\n",
      "\n",
      "\n",
      "\u001b[0mEpoch 4\n",
      "No. Correct Outputs: 2\n",
      "x1 wt: -0.25\n",
      "x2 wt: -0.48\n",
      "bias wt: 0.23\n",
      "\n",
      "*********************************************\n",
      "\n",
      "\n",
      "\u001b[0mEpoch 5\n",
      "No. Correct Outputs: 2\n",
      "x1 wt: -0.50\n",
      "x2 wt: -0.48\n",
      "bias wt: 0.23\n",
      "\n",
      "*********************************************\n",
      "\n",
      "\n",
      "\u001b[0mEpoch 6\n",
      "No. Correct Outputs: 1\n",
      "x1 wt: -0.50\n",
      "x2 wt: -0.48\n",
      "bias wt: 0.48\n",
      "\n",
      "*********************************************\n",
      "\n",
      "\n",
      "\u001b[0mEpoch 7\n",
      "No. Correct Outputs: 2\n",
      "x1 wt: -0.50\n",
      "x2 wt: -0.73\n",
      "bias wt: 0.48\n",
      "\n",
      "*********************************************\n",
      "\n",
      "\n",
      "\u001b[0mEpoch 8\n",
      "No. Correct Outputs: 3\n",
      "x1 wt: -0.50\n",
      "x2 wt: -0.48\n",
      "bias wt: 0.73\n",
      "\n",
      "*********************************************\n",
      "\n",
      "\n",
      "\u001b[0mEpoch 9\n",
      "No. Correct Outputs: 4\n",
      "x1 wt: -0.50\n",
      "x2 wt: -0.48\n",
      "bias wt: 0.73\n",
      "\n",
      "*********************************************\n",
      "\n",
      "\u001b[1mTermination Condition Met\u001b[0m\n",
      "Boolean Function: NAND\n",
      "Solution took 9 epochs\n",
      "\n",
      "x1 wt: -0.50; x2 wt: -0.48; bias wt: 0.73\n",
      "\n"
     ]
    }
   ],
   "source": [
    "learn_bool(\"NAND\")"
   ]
  },
  {
   "cell_type": "code",
   "execution_count": 25,
   "id": "14a5a9bb",
   "metadata": {},
   "outputs": [
    {
     "name": "stdout",
     "output_type": "stream",
     "text": [
      "\u001b[1mBoolean Function: NOR\u001b[0m\n",
      "Initial Weights: \n",
      "x1 wt: 0.58; x2 wt: 0.51; bias wt: 0.97\n",
      "\n",
      "\n",
      "\u001b[0mEpoch 1\n",
      "No. Correct Outputs: 1\n",
      "x1 wt: 0.08\n",
      "x2 wt: 0.01\n",
      "bias wt: 0.22\n",
      "\n",
      "*********************************************\n",
      "\n",
      "\n",
      "\u001b[0mEpoch 2\n",
      "No. Correct Outputs: 2\n",
      "x1 wt: -0.17\n",
      "x2 wt: -0.24\n",
      "bias wt: -0.28\n",
      "\n",
      "*********************************************\n",
      "\n",
      "\n",
      "\u001b[0mEpoch 3\n",
      "No. Correct Outputs: 3\n",
      "x1 wt: -0.17\n",
      "x2 wt: -0.24\n",
      "bias wt: -0.03\n",
      "\n",
      "*********************************************\n",
      "\n",
      "\n",
      "\u001b[0mEpoch 4\n",
      "No. Correct Outputs: 2\n",
      "x1 wt: -0.42\n",
      "x2 wt: -0.24\n",
      "bias wt: -0.03\n",
      "\n",
      "*********************************************\n",
      "\n",
      "\n",
      "\u001b[0mEpoch 5\n",
      "No. Correct Outputs: 3\n",
      "x1 wt: -0.42\n",
      "x2 wt: -0.24\n",
      "bias wt: 0.22\n",
      "\n",
      "*********************************************\n",
      "\n",
      "\n",
      "\u001b[0mEpoch 6\n",
      "No. Correct Outputs: 4\n",
      "x1 wt: -0.42\n",
      "x2 wt: -0.24\n",
      "bias wt: 0.22\n",
      "\n",
      "*********************************************\n",
      "\n",
      "\u001b[1mTermination Condition Met\u001b[0m\n",
      "Boolean Function: NOR\n",
      "Solution took 6 epochs\n",
      "\n",
      "x1 wt: -0.42; x2 wt: -0.24; bias wt: 0.22\n",
      "\n"
     ]
    }
   ],
   "source": [
    "learn_bool(\"NOR\")"
   ]
  }
 ],
 "metadata": {
  "kernelspec": {
   "display_name": "Python 3 (ipykernel)",
   "language": "python",
   "name": "python3"
  },
  "language_info": {
   "codemirror_mode": {
    "name": "ipython",
    "version": 3
   },
   "file_extension": ".py",
   "mimetype": "text/x-python",
   "name": "python",
   "nbconvert_exporter": "python",
   "pygments_lexer": "ipython3",
   "version": "3.9.7"
  }
 },
 "nbformat": 4,
 "nbformat_minor": 5
}
