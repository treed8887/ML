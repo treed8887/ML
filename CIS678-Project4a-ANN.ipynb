{
 "cells": [
  {
   "cell_type": "markdown",
   "id": "5f3fb0c8",
   "metadata": {},
   "source": [
    "# CIS 678 Machine Learning Project 4(a) - ANN\n",
    "Tyler Reed"
   ]
  },
  {
   "cell_type": "markdown",
   "id": "8e073772",
   "metadata": {},
   "source": [
    "### Overview\n",
    "--------------\n",
    "Four linearly-separable, two-input Boolean functions, (AND, OR, NAND, NOR), will be modeled by a perceptron that will learn the weights of each function for classification."
   ]
  },
  {
   "cell_type": "markdown",
   "id": "456ef49a",
   "metadata": {},
   "source": [
    "### Data\n",
    "---------\n",
    "The data of each boolean function is within a csv file as shown below as a pandas dataframe."
   ]
  },
  {
   "cell_type": "code",
   "execution_count": 1,
   "id": "75b46b89",
   "metadata": {},
   "outputs": [
    {
     "name": "stdout",
     "output_type": "stream",
     "text": [
      "   x1  x2  AND  OR  NAND  NOR\n",
      "0   0   0    0   0     1    1\n",
      "1   0   1    0   1     1    0\n",
      "2   1   0    0   1     1    0\n",
      "3   1   1    1   1     0    0\n"
     ]
    }
   ],
   "source": [
    "import numpy as np\n",
    "import pandas as pd\n",
    "import random as rand\n",
    "bool_df = pd.read_csv('/Users/Study/Downloads/CIS678/ML/Booleans.csv', \n",
    "                 sep=\",\", header=0)\n",
    "print(bool_df)"
   ]
  },
  {
   "cell_type": "markdown",
   "id": "dc59b120",
   "metadata": {},
   "source": [
    "### Methodology"
   ]
  },
  {
   "cell_type": "code",
   "execution_count": 2,
   "id": "4215792a",
   "metadata": {},
   "outputs": [],
   "source": [
    "def learn_bool(x1,x2,bln):\n",
    "    rand.seed(2005)\n",
    "    # accept only 1 & 0 as inputs\n",
    "    if x1 !=0 and x1 !=1 :\n",
    "        return print(\"Invalid input value. Must be 1 or 0.\")\n",
    "    elif x2 !=0 and x2 !=1 :\n",
    "        return print(\"Invalid input value. Must be 1 or 0.\")\n",
    "    elif bln not in [\"AND\", \"OR\", \"NAND\", \"NOR\"]:\n",
    "        return print(\"ERROR: Invalid boolean function type. Must be linearly-separable, two-input boolean function: AND, OR, NAND, NOR\")\n",
    "    # retrieve target\n",
    "    t_df = bool_df.filter(items=[\"x1\", \"x2\", bln]) \n",
    "    t = t_df.loc[(t_df['x1'] == x1) & (t_df['x2'] == x2)].to_numpy()[0, [-1]][0]\n",
    "    # initialize weights, bias, bln types, learning rate\n",
    "    wt_x1 = rand.random()\n",
    "    wt_x2 = -rand.random()\n",
    "    b = 1\n",
    "    all_bias_wt = {'AND':-rand.random(), 'NAND':rand.random(),\n",
    "                   'OR':-rand.random(), 'NOR':rand.random()}\n",
    "    wt_b = all_bias_wt[bln]\n",
    "    eta = 0.25\n",
    "    # calculate SOP\n",
    "    s = (wt_x1*x1 + wt_x2*x2 + wt_b*b)\n",
    "    # determine y\n",
    "    if s > 0:\n",
    "        y = 1\n",
    "    else:\n",
    "        y = 0\n",
    "    # if y is not equal to target, update weights until true\n",
    "    while y != t:\n",
    "        # calculate delta to add to wts\n",
    "        delta_x1 = eta*(t-y)*x1\n",
    "        delta_x2 = eta*(t-y)*x2\n",
    "        wt_x1 += delta_x1  \n",
    "        wt_x2 += delta_x2\n",
    "        # calculate updated s\n",
    "        s_temp = (wt_x1*x1 + wt_x2*x2 + wt_b*b)\n",
    "        # re-determine y\n",
    "        if s_temp > 0:\n",
    "            y = 1\n",
    "        else:\n",
    "            y = 0\n",
    "        print(\"Boolean Function: \" + str(bln) + \"\\n\" + \"x1 wt: \"\n",
    "              + \"{:.2f}\".format(wt_x1) + \"\\n\" + \"x2 wt: \" + \"{:.2f}\".format(wt_x2)\n",
    "              + \"\\n\" + \"S: \" + \"{:.2f}\".format(s_temp))\n",
    "    \n",
    "    return print(\"\\n\" + \"\\033[1m\" + \"Termination Condition Met\" + \"\\033[0m\" + \"\\n\" + \"Boolean Function: \"\n",
    "                 + str(bln) + \"\\n\" + \"Final x1 wt: \" + \"{:.2f}\".format(wt_x1) + \"\\n\" + \"Final x2 wt: \"\n",
    "                 + \"{:.2f}\".format(wt_x2) + \"\\n\" + \"y: \" + str(y))  "
   ]
  },
  {
   "cell_type": "code",
   "execution_count": 3,
   "id": "b4c131bc",
   "metadata": {
    "scrolled": false
   },
   "outputs": [
    {
     "name": "stdout",
     "output_type": "stream",
     "text": [
      "Boolean Function: NAND\n",
      "x1 wt: 0.20\n",
      "x2 wt: -0.33\n",
      "S: 0.52\n",
      "Boolean Function: NAND\n",
      "x1 wt: -0.05\n",
      "x2 wt: -0.58\n",
      "S: 0.02\n",
      "Boolean Function: NAND\n",
      "x1 wt: -0.30\n",
      "x2 wt: -0.83\n",
      "S: -0.48\n",
      "\n",
      "\u001b[1mTermination Condition Met\u001b[0m\n",
      "Boolean Function: NAND\n",
      "Final x1 wt: -0.30\n",
      "Final x2 wt: -0.83\n",
      "y: 0\n"
     ]
    }
   ],
   "source": [
    "learn_bool(1,1,\"NAND\")"
   ]
  },
  {
   "cell_type": "code",
   "execution_count": 4,
   "id": "f53aa0a9",
   "metadata": {},
   "outputs": [
    {
     "name": "stdout",
     "output_type": "stream",
     "text": [
      "\n",
      "\u001b[1mTermination Condition Met\u001b[0m\n",
      "Boolean Function: AND\n",
      "Final x1 wt: 0.45\n",
      "Final x2 wt: -0.08\n",
      "y: 0\n"
     ]
    }
   ],
   "source": [
    "learn_bool(0,0,\"AND\")"
   ]
  },
  {
   "cell_type": "code",
   "execution_count": 5,
   "id": "9d40c620",
   "metadata": {},
   "outputs": [
    {
     "name": "stdout",
     "output_type": "stream",
     "text": [
      "\n",
      "\u001b[1mTermination Condition Met\u001b[0m\n",
      "Boolean Function: OR\n",
      "Final x1 wt: 0.45\n",
      "Final x2 wt: -0.08\n",
      "y: 1\n"
     ]
    }
   ],
   "source": [
    "learn_bool(1,0,\"OR\")"
   ]
  },
  {
   "cell_type": "code",
   "execution_count": 6,
   "id": "b410732b",
   "metadata": {},
   "outputs": [
    {
     "name": "stdout",
     "output_type": "stream",
     "text": [
      "Boolean Function: NOR\n",
      "x1 wt: 0.20\n",
      "x2 wt: -0.33\n",
      "S: 0.32\n",
      "Boolean Function: NOR\n",
      "x1 wt: -0.05\n",
      "x2 wt: -0.58\n",
      "S: -0.18\n",
      "\n",
      "\u001b[1mTermination Condition Met\u001b[0m\n",
      "Boolean Function: NOR\n",
      "Final x1 wt: -0.05\n",
      "Final x2 wt: -0.58\n",
      "y: 0\n"
     ]
    }
   ],
   "source": [
    "learn_bool(1,1,\"NOR\")"
   ]
  },
  {
   "cell_type": "code",
   "execution_count": 7,
   "id": "7716f759",
   "metadata": {},
   "outputs": [
    {
     "name": "stdout",
     "output_type": "stream",
     "text": [
      "\n",
      "\u001b[1mTermination Condition Met\u001b[0m\n",
      "Boolean Function: NAND\n",
      "Final x1 wt: 0.45\n",
      "Final x2 wt: -0.08\n",
      "y: 1\n"
     ]
    }
   ],
   "source": [
    "learn_bool(1,0,\"NAND\")"
   ]
  },
  {
   "cell_type": "code",
   "execution_count": 8,
   "id": "6f890598",
   "metadata": {},
   "outputs": [
    {
     "name": "stdout",
     "output_type": "stream",
     "text": [
      "Boolean Function: NOR\n",
      "x1 wt: 0.45\n",
      "x2 wt: -0.33\n",
      "S: 0.12\n",
      "Boolean Function: NOR\n",
      "x1 wt: 0.45\n",
      "x2 wt: -0.58\n",
      "S: -0.13\n",
      "\n",
      "\u001b[1mTermination Condition Met\u001b[0m\n",
      "Boolean Function: NOR\n",
      "Final x1 wt: 0.45\n",
      "Final x2 wt: -0.58\n",
      "y: 0\n"
     ]
    }
   ],
   "source": [
    "learn_bool(0,1,\"NOR\")"
   ]
  }
 ],
 "metadata": {
  "kernelspec": {
   "display_name": "Python 3 (ipykernel)",
   "language": "python",
   "name": "python3"
  },
  "language_info": {
   "codemirror_mode": {
    "name": "ipython",
    "version": 3
   },
   "file_extension": ".py",
   "mimetype": "text/x-python",
   "name": "python",
   "nbconvert_exporter": "python",
   "pygments_lexer": "ipython3",
   "version": "3.9.7"
  }
 },
 "nbformat": 4,
 "nbformat_minor": 5
}
