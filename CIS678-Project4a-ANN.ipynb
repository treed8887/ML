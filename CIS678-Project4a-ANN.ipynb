{
 "cells": [
  {
   "cell_type": "markdown",
   "id": "5f3fb0c8",
   "metadata": {},
   "source": [
    "# CIS 678 Machine Learning Project 4(a) - ANN\n",
    "Tyler Reed"
   ]
  },
  {
   "cell_type": "markdown",
   "id": "8e073772",
   "metadata": {},
   "source": [
    "### Overview\n",
    "--------------\n",
    "Four linearly-separable, two-input Boolean functions, (AND, OR, NAND, NOR), will be modeled by a perceptron that will learn the weights of each function for classification."
   ]
  },
  {
   "cell_type": "markdown",
   "id": "d110adaa",
   "metadata": {},
   "source": []
  },
  {
   "cell_type": "markdown",
   "id": "456ef49a",
   "metadata": {},
   "source": [
    "### Data\n",
    "---------\n",
    "The data of each boolean function is within a csv file as shown below as a pandas dataframe."
   ]
  },
  {
   "cell_type": "code",
   "execution_count": 2,
   "id": "75b46b89",
   "metadata": {},
   "outputs": [
    {
     "name": "stdout",
     "output_type": "stream",
     "text": [
      "   x1  x2  AND  OR  NAND  NOR\n",
      "0   0   0    0   0     1    1\n",
      "1   0   1    0   1     1    0\n",
      "2   1   0    0   1     1    0\n",
      "3   1   1    1   1     0    0\n"
     ]
    }
   ],
   "source": [
    "import numpy as np\n",
    "import pandas as pd\n",
    "bool_df = pd.read_csv('/Users/Study/Downloads/CIS678/ML/Booleans.csv', \n",
    "                 sep=\",\", header=0)\n",
    "print(bool_df)"
   ]
  },
  {
   "cell_type": "markdown",
   "id": "dc59b120",
   "metadata": {},
   "source": [
    "### Methodology"
   ]
  },
  {
   "cell_type": "code",
   "execution_count": 159,
   "id": "4215792a",
   "metadata": {},
   "outputs": [],
   "source": [
    "def learn_bool(x1,x2,bln):\n",
    "    # accept only 1 & 0 as inputs\n",
    "    if x1 !=0 and x1 !=1 :\n",
    "        return print(\"Invalid input value. Must be 1 or 0.\")\n",
    "    elif x2 !=0 and x2 !=1 :\n",
    "        return print(\"Invalid input value. Must be 1 or 0.\")\n",
    "    elif bln not in [\"AND\", \"OR\", \"NAND\", \"NOR\"]:\n",
    "        return print(\"ERROR: Invalid boolean function type. Must be linearly-separable, two-input boolean function: AND, OR, NAND, NOR\")\n",
    "    # retrieve target\n",
    "    t_df = bool_df.filter(items=[\"x1\", \"x2\", bln]) \n",
    "    t = t_df.loc[(t_df['x1'] == x1) & (t_df['x2'] == x2)].to_numpy()[0, [-1]][0]\n",
    "    # initialize weights\n",
    "    wt_b = 1\n",
    "    wt_x1 = 0.1\n",
    "    wt_x2 = -0.1\n",
    "    # calculate Sum of Products (SOP)\n",
    "    sop = wt_x1*x1 + w_x2*x2 + wt_b*\n",
    "    \n",
    "    \n",
    "    return print(t)\n",
    "\n",
    "    \n",
    "    \n",
    "    \n",
    "    \n",
    "    \n",
    "    \n",
    "    \n",
    "    \n",
    "    \n",
    "    \n",
    "    \n",
    "    \n",
    "    \n",
    "    "
   ]
  },
  {
   "cell_type": "code",
   "execution_count": 158,
   "id": "fca8843d",
   "metadata": {},
   "outputs": [
    {
     "name": "stdout",
     "output_type": "stream",
     "text": [
      "ERROR: Invalid boolean function type. Must be linearly-separable, two-input boolean function: AND, OR, NAND, NOR\n"
     ]
    }
   ],
   "source": [
    "learn_bool(1,1,\"AeND\")"
   ]
  },
  {
   "cell_type": "markdown",
   "id": "bb734761",
   "metadata": {},
   "source": []
  },
  {
   "cell_type": "markdown",
   "id": "742236f3",
   "metadata": {},
   "source": []
  },
  {
   "cell_type": "markdown",
   "id": "d714885b",
   "metadata": {},
   "source": []
  },
  {
   "cell_type": "code",
   "execution_count": null,
   "id": "c375a12d",
   "metadata": {},
   "outputs": [],
   "source": []
  },
  {
   "cell_type": "code",
   "execution_count": null,
   "id": "9d838a33",
   "metadata": {},
   "outputs": [],
   "source": []
  }
 ],
 "metadata": {
  "kernelspec": {
   "display_name": "Python 3 (ipykernel)",
   "language": "python",
   "name": "python3"
  },
  "language_info": {
   "codemirror_mode": {
    "name": "ipython",
    "version": 3
   },
   "file_extension": ".py",
   "mimetype": "text/x-python",
   "name": "python",
   "nbconvert_exporter": "python",
   "pygments_lexer": "ipython3",
   "version": "3.9.7"
  }
 },
 "nbformat": 4,
 "nbformat_minor": 5
}
