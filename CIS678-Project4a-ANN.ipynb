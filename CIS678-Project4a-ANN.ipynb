{
 "cells": [
  {
   "cell_type": "markdown",
   "id": "5f3fb0c8",
   "metadata": {},
   "source": [
    "# CIS 678 Machine Learning Project 4(a) - ANN\n",
    "Tyler Reed\n",
    "\n",
    "NOTE: To view all output, use nbviewer link below.\n",
    "https://nbviewer.org/github/treed8887/ML/blob/main/CIS678-Project4a-ANN.ipynb"
   ]
  },
  {
   "cell_type": "markdown",
   "id": "8e073772",
   "metadata": {},
   "source": [
    "### Overview\n",
    "--------------\n",
    "Four linearly-separable, two-input Boolean functions, (AND, OR, NAND, NOR), will be modeled by a perceptron that will learn the weights of each function for classification."
   ]
  },
  {
   "cell_type": "markdown",
   "id": "456ef49a",
   "metadata": {},
   "source": [
    "### Data\n",
    "---------\n",
    "The data of each boolean function is within a csv file as shown below as a pandas dataframe."
   ]
  },
  {
   "cell_type": "code",
   "execution_count": 1,
   "id": "75b46b89",
   "metadata": {},
   "outputs": [
    {
     "name": "stdout",
     "output_type": "stream",
     "text": [
      "   x1  x2  AND  OR  NAND  NOR\n",
      "0   0   0    0   0     1    1\n",
      "1   0   1    0   1     1    0\n",
      "2   1   0    0   1     1    0\n",
      "3   1   1    1   1     0    0\n"
     ]
    }
   ],
   "source": [
    "import numpy as np\n",
    "import pandas as pd\n",
    "import random as rand\n",
    "bool_df = pd.read_csv('/Users/Study/Downloads/CIS678/ML/Booleans.csv', \n",
    "                 sep=\",\", header=0)\n",
    "print(bool_df)"
   ]
  },
  {
   "cell_type": "markdown",
   "id": "dc59b120",
   "metadata": {},
   "source": [
    "### Methodology\n",
    "------------------\n",
    "The following function is defined with three arguments: `x1` being the first input, `x2` as second input, and `bln` as the type of boolean function to be learned. Valid input arguments are 1 or 0."
   ]
  },
  {
   "cell_type": "code",
   "execution_count": 77,
   "id": "0388d434",
   "metadata": {},
   "outputs": [
    {
     "name": "stdout",
     "output_type": "stream",
     "text": [
      "Epoch 1\n",
      "Correct: 1\n",
      "wt_x1: 0.60\n",
      "x2 wt: 0.39\n",
      "bias wt: -0.57\n",
      "\n",
      "Epoch 2\n",
      "Correct: 2\n",
      "wt_x1: 0.60\n",
      "x2 wt: 0.64\n",
      "bias wt: -0.57\n",
      "\n",
      "Epoch 3\n",
      "Correct: 3\n",
      "wt_x1: 0.60\n",
      "x2 wt: 0.39\n",
      "bias wt: -0.82\n",
      "\n",
      "Epoch 4\n",
      "Correct: 4\n",
      "wt_x1: 0.60\n",
      "x2 wt: 0.39\n",
      "bias wt: -0.82\n",
      "\n",
      "\n",
      "\u001b[1mTermination Condition Met\u001b[0m\n",
      "Boolean Function: AND\n",
      "Final Epoch 4\n",
      "Correct: 4\n",
      "\n",
      "x1 wt: 0.60; x2 wt: 0.39; bias wt: -0.82\n",
      "\n"
     ]
    }
   ],
   "source": [
    "def learn_bool():\n",
    "    # set seed for rng\n",
    "#     rand.seed(2005)\n",
    "    bln = \"AND\"\n",
    "    \n",
    "    # retrieve dataframe for specified boolean\n",
    "    t_df = bool_df.filter(items=[\"x1\", \"x2\", bln]) \n",
    "    \n",
    "    # initialize weights, bias, bln types, learning rate\n",
    "    wt_x1 = rand.random()\n",
    "    wt_x2 = rand.random()\n",
    "    wt_b = rand.random()\n",
    "    b = 1\n",
    "    eta = 0.25\n",
    "    correct = 0 # number of correct outputs per epoch\n",
    "    epoch = 0\n",
    "    \n",
    "    # iterate through instances to learn final wts\n",
    "    while correct != 4:\n",
    "        correct = 0\n",
    "        for row in t_df.iterrows():\n",
    "            x1 = row[1][0]\n",
    "            x2 = row[1][1]\n",
    "            t = row[1][2] \n",
    "            # calculate sum of products\n",
    "            s = (wt_x1*x1 + wt_x2*x2 + wt_b*b)\n",
    "            # determine output\n",
    "            if s > 0:\n",
    "                y = 1\n",
    "            else:\n",
    "                y = 0\n",
    "            # is output correct?\n",
    "            if y != t:\n",
    "                # calculate delta to add to wts\n",
    "                delta_x1 = eta*(t-y)*x1\n",
    "                delta_x2 = eta*(t-y)*x2\n",
    "                delta_b = eta*(t-y)*b\n",
    "                wt_x1 += delta_x1  \n",
    "                wt_x2 += delta_x2\n",
    "                wt_b += delta_b\n",
    "            else:\n",
    "                correct += 1\n",
    "        epoch += 1\n",
    "        print(\"Epoch \" + str(epoch) + \"\\n\" + \"Correct: \" + str(correct) + \"\\n\" + \"wt_x1: \" + \"{:.2f}\".format(wt_x1) + \"\\n\"\n",
    "              + \"x2 wt: \" + \"{:.2f}\".format(wt_x2) + \"\\n\" + \"bias wt: \" + \"{:.2f}\".format(wt_b) + \"\\n\")\n",
    "        \n",
    "    print(\"\\n\" + \"\\033[1m\" + \"Termination Condition Met\" + \"\\033[0m\" + \"\\n\" + \"Boolean Function: \" + bln + \"\\n\" + \"Final Epoch \" \n",
    "          + str(epoch) + \"\\n\" + \"Correct: \" + str(correct) + \"\\n\" + \"\\n\" + \"x1 wt: \" + \"{:.2f}\".format(wt_x1) + \"; \" \n",
    "          + \"x2 wt: \" + \"{:.2f}\".format(wt_x2) + \"; \" + \"bias wt: \" + \"{:.2f}\".format(wt_b) + \"\\n\")\n",
    "    return \n",
    "\n",
    "learn_bool()\n",
    "    # learning algorithm within for loop to go through each instance and update wts of subsequent instance based on prior result\n",
    "#     for i in 4:\n",
    "#         x1 = \n",
    "#         x2 = \n",
    "#         t = t_df.loc[(t_df['x1'] == x1) & (t_df['x2'] == x2)].to_numpy()[0, [-1]][0]\n",
    "    \n",
    "\n",
    "    \n",
    "#     # calculate SOP\n",
    "#     s = (wt_x1*x1 + wt_x2*x2 + wt_b*b)\n",
    "    \n",
    "#     # determine y\n",
    "#     if s > 0:\n",
    "#         y = 1\n",
    "#     else:\n",
    "#         y = 0\n",
    "        \n",
    "#     # if y is not equal to target, update weights until true\n",
    "#     while y != t:\n",
    "#         # calculate delta to add to wts\n",
    "#         delta_x1 = eta*(t-y)*x1\n",
    "#         delta_x2 = eta*(t-y)*x2\n",
    "#         wt_x1 += delta_x1  \n",
    "#         wt_x2 += delta_x2\n",
    "        \n",
    "#         # calculate updated s\n",
    "#         s_temp = (wt_x1*x1 + wt_x2*x2 + wt_b*b)\n",
    "        \n",
    "#         # re-determine y\n",
    "#         if s_temp > 0:\n",
    "#             y = 1\n",
    "#         else:\n",
    "#             y = 0\n",
    "#         print(\"Boolean Function: \" + str(bln) + \"\\n\" + \"x1 wt: \"\n",
    "#               + \"{:.2f}\".format(wt_x1) + \"\\n\" + \"x2 wt: \" + \"{:.2f}\".format(wt_x2)\n",
    "#               + \"\\n\" + \"S: \" + \"{:.2f}\".format(s_temp))\n",
    "    \n",
    "#     return print(\"\\n\" + \"\\033[1m\" + \"Termination Condition Met\" + \"\\033[0m\" + \"\\n\" + \"Boolean Function: \"\n",
    "#                  + str(bln) + \"\\n\" + \"Final x1 wt: \" + \"{:.2f}\".format(wt_x1) + \"\\n\" + \"Final x2 wt: \"\n",
    "#                  + \"{:.2f}\".format(wt_x2) + \"\\n\" + \"y: \" + str(y))  "
   ]
  },
  {
   "cell_type": "code",
   "execution_count": 2,
   "id": "4215792a",
   "metadata": {},
   "outputs": [],
   "source": [
    "def learn_bool():\n",
    "    rand.seed(2005)\n",
    "    # accept only 1 & 0 as inputs\n",
    "    if x1 !=0 and x1 !=1 :\n",
    "        return print(\"Invalid input value. Must be 1 or 0.\")\n",
    "    elif x2 !=0 and x2 !=1 :\n",
    "        return print(\"Invalid input value. Must be 1 or 0.\")\n",
    "    elif bln not in [\"AND\", \"OR\", \"NAND\", \"NOR\"]:\n",
    "        return print(\"ERROR: Invalid boolean function type. Must be linearly-separable, two-input boolean function: AND, OR, NAND, NOR\")\n",
    "    \n",
    "    # retrieve target\n",
    "    t_df = bool_df.filter(items=[\"x1\", \"x2\", bln]) \n",
    "    t = t_df.loc[(t_df['x1'] == x1) & (t_df['x2'] == x2)].to_numpy()[0, [-1]][0]\n",
    "    \n",
    "    # initialize weights, bias, bln types, learning rate\n",
    "    wt_x1 = rand.random()\n",
    "    wt_x2 = -rand.random()\n",
    "    b = 1\n",
    "    all_bias_wt = {'AND':-rand.random(), 'NAND':rand.random(),\n",
    "                   'OR':-rand.random(), 'NOR':rand.random()}\n",
    "    wt_b = all_bias_wt[bln]\n",
    "    eta = 0.25\n",
    "    \n",
    "    # calculate SOP\n",
    "    s = (wt_x1*x1 + wt_x2*x2 + wt_b*b)\n",
    "    \n",
    "    # determine y\n",
    "    if s > 0:\n",
    "        y = 1\n",
    "    else:\n",
    "        y = 0\n",
    "        \n",
    "    # if y is not equal to target, update weights until true\n",
    "    while y != t:\n",
    "        # calculate delta to add to wts\n",
    "        delta_x1 = eta*(t-y)*x1\n",
    "        delta_x2 = eta*(t-y)*x2\n",
    "        wt_x1 += delta_x1  \n",
    "        wt_x2 += delta_x2\n",
    "        \n",
    "        # calculate updated s\n",
    "        s_temp = (wt_x1*x1 + wt_x2*x2 + wt_b*b)\n",
    "        \n",
    "        # re-determine y\n",
    "        if s_temp > 0:\n",
    "            y = 1\n",
    "        else:\n",
    "            y = 0\n",
    "        print(\"Boolean Function: \" + str(bln) + \"\\n\" + \"x1 wt: \"\n",
    "              + \"{:.2f}\".format(wt_x1) + \"\\n\" + \"x2 wt: \" + \"{:.2f}\".format(wt_x2)\n",
    "              + \"\\n\" + \"S: \" + \"{:.2f}\".format(s_temp))\n",
    "    \n",
    "    return print(\"\\n\" + \"\\033[1m\" + \"Termination Condition Met\" + \"\\033[0m\" + \"\\n\" + \"Boolean Function: \"\n",
    "                 + str(bln) + \"\\n\" + \"Final x1 wt: \" + \"{:.2f}\".format(wt_x1) + \"\\n\" + \"Final x2 wt: \"\n",
    "                 + \"{:.2f}\".format(wt_x2) + \"\\n\" + \"y: \" + str(y))  "
   ]
  },
  {
   "cell_type": "code",
   "execution_count": 3,
   "id": "b4c131bc",
   "metadata": {
    "scrolled": false
   },
   "outputs": [],
   "source": [
    "# learn_bool(1,1,\"NAND\")"
   ]
  },
  {
   "cell_type": "code",
   "execution_count": 41,
   "id": "48acac8a",
   "metadata": {},
   "outputs": [
    {
     "name": "stdout",
     "output_type": "stream",
     "text": [
      "2\n"
     ]
    }
   ],
   "source": []
  },
  {
   "cell_type": "code",
   "execution_count": null,
   "id": "8c2f38b8",
   "metadata": {},
   "outputs": [],
   "source": []
  }
 ],
 "metadata": {
  "kernelspec": {
   "display_name": "Python 3 (ipykernel)",
   "language": "python",
   "name": "python3"
  },
  "language_info": {
   "codemirror_mode": {
    "name": "ipython",
    "version": 3
   },
   "file_extension": ".py",
   "mimetype": "text/x-python",
   "name": "python",
   "nbconvert_exporter": "python",
   "pygments_lexer": "ipython3",
   "version": "3.9.7"
  }
 },
 "nbformat": 4,
 "nbformat_minor": 5
}
